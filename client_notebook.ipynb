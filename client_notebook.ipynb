{
 "cells": [
  {
   "cell_type": "code",
   "execution_count": 4,
   "metadata": {},
   "outputs": [
    {
     "name": "stdout",
     "output_type": "stream",
     "text": [
      "{'prediction_xgboost': 0.0, 'prediction_random_forest': 0.0, 'prediction_decision_tree': 0.0}\n"
     ]
    }
   ],
   "source": [
    "import base64\n",
    "from PIL import Image\n",
    "import requests\n",
    "import io\n",
    "\n",
    "img = Image.open('./imagens/imagem_positiva.png')\n",
    "#img = Image.open('./imagens/imagem_positiva_ruido.png')\n",
    "#img = Image.open('./imagens/imagem_negativa.png')\n",
    "img = img.resize((8,8))\n",
    "buffered = io.BytesIO()\n",
    "img.save(buffered, format=\"PNG\")\n",
    "img_str = base64.b64encode(buffered.getvalue()).decode('utf-8')\n",
    "url = 'http://localhost:8000/predict'\n",
    "response = requests.post(url, json={'image': img_str})\n",
    "print(response.json())"
   ]
  }
 ],
 "metadata": {
  "kernelspec": {
   "display_name": "Python 3",
   "language": "python",
   "name": "python3"
  },
  "language_info": {
   "codemirror_mode": {
    "name": "ipython",
    "version": 3
   },
   "file_extension": ".py",
   "mimetype": "text/x-python",
   "name": "python",
   "nbconvert_exporter": "python",
   "pygments_lexer": "ipython3",
   "version": "3.10.13"
  }
 },
 "nbformat": 4,
 "nbformat_minor": 2
}
