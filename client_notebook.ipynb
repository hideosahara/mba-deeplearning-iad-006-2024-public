{
 "cells": [
  {
   "cell_type": "code",
   "execution_count": 8,
   "metadata": {},
   "outputs": [
    {
     "name": "stdout",
     "output_type": "stream",
     "text": [
      "iVBORw0KGgoAAAANSUhEUgAAAAgAAAAICAYAAADED76LAAAA60lEQVR4nAXBoQrCUBiA0c+xYJsPYDVqumARNswWhaVVX8C4l7CLQcbC0pIYjAYRgxs4MDvGRVi5CJbd8ntOz1or5/OZruvIsozhcIgxhiRJeL/fOGVZEkURg8EA3/eZz+cAFEXB5XLBud/vNE3D7/fjdrsxm83YbDZUVUVZlqCUkvV6LZ/PR77fr8RxLJ7nCSCPx0N6+/1e+v0+aZqyXC55Pp9MJhOyLGO1WuECHI9HwjBkPB5zOBx4vV5st1ustTjX65XFYsF0OkVrTRAE1HVNnudorekppcQYw+l0wnVd2rZlNBohIux2O/7DjnZee0yn/QAAAABJRU5ErkJggg==\n",
      "{'prediction_xgboost': 1.0, 'prediction_random_forest': 1.0, 'prediction_decision_tree': 1.0}\n"
     ]
    }
   ],
   "source": [
    "import base64\n",
    "from PIL import Image\n",
    "import requests\n",
    "import io\n",
    "\n",
    "#img = Image.open('./imagens/imagem_positiva.png')\n",
    "#img = Image.open('./imagens/imagem_positiva_ruido.png')\n",
    "img = Image.open('./imagens/imagem_negativa.png')\n",
    "img = img.resize((8,8))\n",
    "buffered = io.BytesIO()\n",
    "img.save(buffered, format=\"PNG\")\n",
    "img_str = base64.b64encode(buffered.getvalue()).decode('utf-8')\n",
    "url = 'http://localhost:8000/predict'\n",
    "print(img_str)\n",
    "response = requests.post(url, json={'image': img_str})\n",
    "print(response.json())"
   ]
  }
 ],
 "metadata": {
  "kernelspec": {
   "display_name": "Python 3",
   "language": "python",
   "name": "python3"
  },
  "language_info": {
   "codemirror_mode": {
    "name": "ipython",
    "version": 3
   },
   "file_extension": ".py",
   "mimetype": "text/x-python",
   "name": "python",
   "nbconvert_exporter": "python",
   "pygments_lexer": "ipython3",
   "version": "3.10.13"
  }
 },
 "nbformat": 4,
 "nbformat_minor": 2
}
