{
 "cells": [
  {
   "cell_type": "markdown",
   "metadata": {},
   "source": [
    "Aluno: Ricardo Hideo Sahara"
   ]
  },
  {
   "cell_type": "code",
   "execution_count": 1,
   "metadata": {},
   "outputs": [],
   "source": [
    "import numpy as np\n",
    "from sklearn.tree import DecisionTreeClassifier\n",
    "from sklearn.datasets import load_digits\n",
    "from sklearn.model_selection import train_test_split\n",
    "from sklearn import tree\n",
    "from sklearn.metrics import confusion_matrix\n",
    "from sklearn.ensemble import RandomForestClassifier\n",
    "from sklearn import tree\n",
    "import matplotlib.pyplot as plt"
   ]
  },
  {
   "cell_type": "markdown",
   "metadata": {},
   "source": [
    "Carregar o conjunto de dados de dígitos."
   ]
  },
  {
   "cell_type": "code",
   "execution_count": 2,
   "metadata": {},
   "outputs": [
    {
     "name": "stdout",
     "output_type": "stream",
     "text": [
      "Tamanho da matriz de dados de treino:  (1437, 64)\n",
      "Tamanho da matriz de dados de teste: (360, 64)\n"
     ]
    }
   ],
   "source": [
    "# Carregar o dataset digits\n",
    "digits = load_digits()\n",
    "X = digits.data\n",
    "y = digits.target\n",
    "\n",
    "# Dividir o dataset em treinamento e teste\n",
    "X_train, X_test, y_train, y_test = train_test_split(X, y, test_size=0.2)\n",
    "\n",
    "print(\"Tamanho da matriz de dados de treino: \", X_train.shape)\n",
    "print(\"Tamanho da matriz de dados de teste:\", X_test.shape)"
   ]
  },
  {
   "cell_type": "markdown",
   "metadata": {},
   "source": [
    "#### Exercício 1 - Treinamento do modelo baseado em árvore de decisão\n",
    "Neste exercício, você irá treinar um modelo de árvore de decisão utilizando o conjunto de dados MNIST. O objetivo é entender como funciona o processo de treinamento de um modelo de árvore de decisão e como ajustar os parâmetros para melhorar o desempenho do modelo.\n",
    "\n",
    "**Você irá:**\n",
    "1. Carregar o conjunto de dados MNIST e pré-processar os dados, se necessário.\n",
    "2. Selecionar a biblioteca ou framework que você irá utilizar (por exemplo, Scikit-learn e/ou XGBoost).\n",
    "3. Configurar os parâmetros do modelo, como a profundidade da árvore, o número de características a considerar em cada nó, etc.\n",
    "4. Treinar o modelo utilizando o conjunto de dados de treinamento.\n",
    "\n",
    "*Dicas:*\n",
    "- Certifique-se de que os dados estejam pré-processados corretamente antes de treinar o modelo.\n",
    "- Ajuste os parâmetros do modelo, como a profundidade da árvore, para melhorar o desempenho do modelo."
   ]
  },
  {
   "cell_type": "code",
   "execution_count": 5,
   "metadata": {},
   "outputs": [
    {
     "name": "stdout",
     "output_type": "stream",
     "text": [
      "Precisão da árvore de decisão: 0.6388888888888888\n",
      "Impureza total de Gini da árvore: 0.4551\n"
     ]
    }
   ],
   "source": [
    "\n",
    "# Criar uma Decision Tree\n",
    "decision_tree = DecisionTreeClassifier(criterion='gini', splitter='best', max_features=64, max_depth=15, max_leaf_nodes=10)\n",
    "#, splitter='best', max_depth=5, min_samples_split=10, min_samples_leaf=10, min_weight_fraction_leaf=0.0, max_features=50, random_state=None, max_leaf_nodes=10, min_impurity_decrease=0.0, class_weight=None, ccp_alpha=0.0, monotonic_cst=None)\n",
    "\n",
    "\n",
    "# Treinar a Decision Tree\n",
    "decision_tree.fit(X_train, y_train)\n",
    "\n",
    "# Prever as classes para o conjunto de teste\n",
    "y_pred = decision_tree.predict(X_test)\n",
    "\n",
    "# Imprimir a precisão da Decision Tree\n",
    "print(\"Precisão da árvore de decisão:\", decision_tree.score(X_test, y_test))\n",
    "#cm = confusion_matrix(y_test, y_pred)\n",
    "#print(cm)\n",
    "\n",
    "#tree.plot_tree(decision_tree)\n",
    "# Obter a impureza de Gini de cada nó\n",
    "gini_impurities = decision_tree.tree_.impurity\n",
    "\n",
    "# Obter o número de amostras em cada nó\n",
    "samples_per_node = decision_tree.tree_.n_node_samples\n",
    "\n",
    "# Identificar os nós terminais (folhas)\n",
    "is_leaf = decision_tree.tree_.children_left == -1\n",
    "\n",
    "# Calcular a impureza total de Gini\n",
    "total_gini_impurity = sum(\n",
    "    gini_impurities[i] * (samples_per_node[i] / samples_per_node[0]) \n",
    "    for i in range(len(gini_impurities)) if is_leaf[i]\n",
    ")\n",
    "\n",
    "print(f\"Impureza total de Gini da árvore: {total_gini_impurity:.4f}\")\n",
    "\n",
    "\n",
    "\n",
    "#print(decision_tree)\n",
    "\n",
    "\n",
    "\n",
    "# Plotar a árvore de decisão\n",
    "#plt.figure(figsize=(20, 10))\n",
    "#tree.plot_tree(decision_tree, filled=True)\n",
    "#plt.show()"
   ]
  },
  {
   "cell_type": "markdown",
   "metadata": {},
   "source": [
    "#### Exercício 2 - Avaliação dos ganhos com a utilização de modelos Ensemble\n",
    "Neste exercício, você irá avaliar os ganhos obtidos ao utilizar modelos Ensemble em comparação com o modelo de árvore de decisão simples. Você irá treinar um modelo Ensemble e comparar os resultados com o modelo de árvore de decisão treinado anteriormente.\n",
    "\n",
    "*Dicas:*\n",
    "- Utilize diferentes tipos de modelos Ensemble, como Random Forest e XGBoost, para comparar os resultados."
   ]
  },
  {
   "cell_type": "code",
   "execution_count": 40,
   "metadata": {},
   "outputs": [
    {
     "name": "stdout",
     "output_type": "stream",
     "text": [
      "Precisão do random forest: 0.9861111111111112\n"
     ]
    }
   ],
   "source": [
    "rf = RandomForestClassifier(criterion='gini')\n",
    "rf.fit(X_train, y_train)\n",
    "y_pred = rf.predict(X_test)\n",
    "print(\"Precisão do random forest:\", rf.score(X_test, y_test))"
   ]
  },
  {
   "cell_type": "code",
   "execution_count": 46,
   "metadata": {},
   "outputs": [
    {
     "name": "stdout",
     "output_type": "stream",
     "text": [
      "Precisão do random forest: 0.975\n"
     ]
    }
   ],
   "source": [
    "from xgboost import XGBClassifier\n",
    "xgb = XGBClassifier()\n",
    "xgb.fit(X_train, y_train)\n",
    "y_pred = xgb.predict(X_test)\n",
    "print(\"Precisão do XGBost:\", xgb.score(X_test, y_test))"
   ]
  },
  {
   "cell_type": "markdown",
   "metadata": {},
   "source": []
  },
  {
   "cell_type": "markdown",
   "metadata": {},
   "source": [
    "#### Exercício 3 - Visualização da árvore de decisão e Medida de Impureza\n",
    "Neste exercício, você irá explorar a estrutura da árvore de decisão e entender como a medida de impureza é utilizada para avaliar a qualidade das divisões nos nós da árvore. A medida de impureza é um conceito fundamental em árvores de decisão, pois ajuda a determinar a melhor forma de dividir os dados em subconjuntos menores e mais homogêneos.\n",
    "\n",
    "**Você irá:**\n",
    "1. Visualizar a árvore de decisão treinada no exercício anterior, utilizando ferramentas como o Scikit-learn ou o Graphviz.\n",
    "2. Calcular a medida de impureza para diferentes conjuntos de dados e entender como ela impacta o desempenho do modelo.\n",
    "3. Analisar como a medida de impureza afeta a escolha dos atributos para dividir os dados em cada nó da árvore.\n",
    "4. Entender como a medida de impureza pode ser utilizada para evitar overfitting e melhorar a generalização do modelo."
   ]
  },
  {
   "cell_type": "code",
   "execution_count": 6,
   "metadata": {},
   "outputs": [
    {
     "ename": "NameError",
     "evalue": "name 'decision_tree' is not defined",
     "output_type": "error",
     "traceback": [
      "\u001b[0;31m---------------------------------------------------------------------------\u001b[0m",
      "\u001b[0;31mNameError\u001b[0m                                 Traceback (most recent call last)",
      "Cell \u001b[0;32mIn[6], line 6\u001b[0m\n\u001b[1;32m      4\u001b[0m \u001b[38;5;66;03m# Plotar a árvore de decisão\u001b[39;00m\n\u001b[1;32m      5\u001b[0m plt\u001b[38;5;241m.\u001b[39mfigure(figsize\u001b[38;5;241m=\u001b[39m(\u001b[38;5;241m20\u001b[39m, \u001b[38;5;241m10\u001b[39m))\n\u001b[0;32m----> 6\u001b[0m tree\u001b[38;5;241m.\u001b[39mplot_tree(\u001b[43mdecision_tree\u001b[49m, filled\u001b[38;5;241m=\u001b[39m\u001b[38;5;28;01mTrue\u001b[39;00m)\n\u001b[1;32m      7\u001b[0m plt\u001b[38;5;241m.\u001b[39mshow()\n",
      "\u001b[0;31mNameError\u001b[0m: name 'decision_tree' is not defined"
     ]
    },
    {
     "data": {
      "text/plain": [
       "<Figure size 2000x1000 with 0 Axes>"
      ]
     },
     "metadata": {},
     "output_type": "display_data"
    }
   ],
   "source": [
    "from sklearn import tree\n",
    "import matplotlib.pyplot as plt\n",
    "\n",
    "# Plotar a árvore de decisão\n",
    "plt.figure(figsize=(20, 10))\n",
    "tree.plot_tree(decision_tree, filled=True)\n",
    "plt.show()"
   ]
  },
  {
   "cell_type": "markdown",
   "metadata": {},
   "source": [
    "#### Exercício 4 - Preparação do container para deploy do modelo\n",
    "Neste exercício, você irá aprender a preparar um container Docker para deploy do modelo de árvore de decisão treinado. Isso envolve criar um ambiente isolado e portável que possa ser facilmente implantado em diferentes contextos.\n",
    "\n",
    "Você irá:\n",
    "1. Criar um arquivo Dockerfile que define as instruções para construir a imagem do container.\n",
    "2. Especificar as dependências necessárias para o modelo, incluindo bibliotecas e frameworks.\n",
    "3. Configurar o ambiente de execução do modelo, incluindo a definição de variáveis de ambiente e a configuração de portas.\n",
    "4. Construir a imagem do container utilizando o comando `docker build`.\n",
    "5. Executar o container utilizando o comando `docker run` e testar a imagem.\n",
    "\n",
    "*Dicas:*\n",
    "- Certifique-se de que o arquivo Dockerfile esteja configurado corretamente para construir a imagem do container."
   ]
  },
  {
   "cell_type": "markdown",
   "metadata": {},
   "source": [
    "#### Exercício 5 - Deploy do modelo usando Flask utilizando uma imagem docker\n",
    "Neste exercício, você irá aprender a deployar o modelo de árvore de decisão treinado utilizando o framework Flask e uma imagem Docker. Isso envolve criar uma API REST que permita realizar inferências com o modelo e entender como funciona o processo de deploy de um modelo em um ambiente de produção.\n",
    "\n",
    "Você irá:\n",
    "1. Criar uma aplicação Flask que carregue o modelo treinado e o utilize para realizar inferências.\n",
    "2. Definir uma API REST que permita enviar solicitações de inferência ao modelo e receber respostas.\n",
    "3. Configurar a aplicação Flask dentro da imagem Docker do exercício anterior.\n",
    "4. Deployar a aplicação Flask no container Docker e testar a API REST.\n",
    "5. Entender como funciona o processo de deploy de um modelo em um ambiente de produção, incluindo a configuração de variáveis de ambiente e a gestão de dependências."
   ]
  },
  {
   "cell_type": "markdown",
   "metadata": {},
   "source": [
    "#### Exercício 6 - Notebook cliente com inferência direto do servidor\n",
    "Neste exercício, você irá aprender a criar um notebook cliente que realize inferências direto do servidor onde o modelo de árvore de decisão foi deployado. Isso envolve entender como funciona o processo de comunicação entre o cliente e o servidor e como realizar inferências com o modelo deployado.\n",
    "\n",
    "Você irá:\n",
    "1. Criar um notebook cliente.\n",
    "2. Importar as bibliotecas necessárias para realizar inferências com o modelo, incluindo a biblioteca `requests` para enviar solicitações HTTP ao servidor criado no exercício anterior.\n",
    "3. Configurar o notebook cliente para se conectar ao servidor onde o modelo foi deployado.\n",
    "4. Enviar solicitações de inferência ao servidor utilizando a API REST criada no exercício anterior.\n",
    "5. Receber as respostas do servidor e visualizar os resultados das inferências."
   ]
  }
 ],
 "metadata": {
  "kernelspec": {
   "display_name": "Python 3",
   "language": "python",
   "name": "python3"
  },
  "language_info": {
   "codemirror_mode": {
    "name": "ipython",
    "version": 3
   },
   "file_extension": ".py",
   "mimetype": "text/x-python",
   "name": "python",
   "nbconvert_exporter": "python",
   "pygments_lexer": "ipython3",
   "version": "3.10.13"
  }
 },
 "nbformat": 4,
 "nbformat_minor": 2
}
